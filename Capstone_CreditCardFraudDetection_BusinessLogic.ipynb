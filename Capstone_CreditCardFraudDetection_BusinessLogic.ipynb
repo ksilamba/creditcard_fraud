{
 "cells": [
  {
   "cell_type": "code",
   "execution_count": 1,
   "id": "c5b1017f",
   "metadata": {},
   "outputs": [
    {
     "name": "stdout",
     "output_type": "stream",
     "text": [
      "Defaulting to user installation because normal site-packages is not writeable\n",
      "Requirement already satisfied: kafka-python in /home/emr-notebook/.local/lib/python3.7/site-packages (2.0.2)\n",
      "Note: you may need to restart the kernel to use updated packages.\n"
     ]
    }
   ],
   "source": [
    "pip install kafka-python"
   ]
  },
  {
   "cell_type": "code",
   "execution_count": 2,
   "id": "5d5a7b1e",
   "metadata": {},
   "outputs": [
    {
     "name": "stdout",
     "output_type": "stream",
     "text": [
      "Defaulting to user installation because normal site-packages is not writeable\n",
      "Requirement already satisfied: pymongo in /home/emr-notebook/.local/lib/python3.7/site-packages (4.3.3)\n",
      "Requirement already satisfied: dnspython<3.0.0,>=1.16.0 in /home/emr-notebook/.local/lib/python3.7/site-packages (from pymongo) (2.3.0)\n",
      "Note: you may need to restart the kernel to use updated packages.\n"
     ]
    }
   ],
   "source": [
    "pip install pymongo"
   ]
  },
  {
   "cell_type": "code",
   "execution_count": 3,
   "id": "8443b121",
   "metadata": {},
   "outputs": [],
   "source": [
    "import json\n",
    "from pymongo import MongoClient\n",
    "import math\n",
    "import pandas as pd\n",
    "import numpy as np\n",
    "import datetime"
   ]
  },
  {
   "cell_type": "code",
   "execution_count": 4,
   "id": "c8f77bd3",
   "metadata": {},
   "outputs": [],
   "source": [
    "speed_threshold = 0.25  # km/sec - Average speed of flight 900 km/hr"
   ]
  },
  {
   "cell_type": "code",
   "execution_count": 5,
   "id": "9a34448b",
   "metadata": {},
   "outputs": [],
   "source": [
    "class GEO_Map():\n",
    "\t\"\"\"\n",
    "\tIt hold the  map for zip code and its latitute and longitute\n",
    "\t\"\"\"\n",
    "\t__instance = None\n",
    "\n",
    "\t@staticmethod\n",
    "\tdef get_instance():\n",
    "\t\t\"\"\" Static access method. \"\"\"\n",
    "\t\tif GEO_Map.__instance == None:\n",
    "\t\t\tGEO_Map()\n",
    "\t\treturn GEO_Map.__instance\n",
    "\n",
    "\tdef __init__(self):\n",
    "\t\t\"\"\" Virtually private constructor. \"\"\"\n",
    "\t\tif GEO_Map.__instance != None:\n",
    "\t\t\traise Exception(\"This class is a singleton!\")\n",
    "\t\telse:\n",
    "\t\t\tGEO_Map.__instance = self\n",
    "\t\t\tself.map = pd.read_csv(\"s3://aws-emr-resources-560518250500-us-east-1/Creditcard_frauddeduction/uszipsv.csv\", header=None, names=['A',\"B\",'C','D','E'])\n",
    "\t\t\tself.map['A'] =  self.map['A'].astype(str)\n",
    "\n",
    "\tdef get_lat(self, pos_id):\n",
    "\t\t#print(\"printing value from class \", self.map[self.map.A == pos_id ].B)        \n",
    "\t\treturn self.map[self.map.A == pos_id ].B\n",
    "\n",
    "\tdef get_long(self, pos_id):\n",
    "\t\treturn self.map[self.map.A == pos_id ].C\n",
    "\n",
    "\tdef distance(self, lat1, long1, lat2, long2):\n",
    "\t\ttheta = long1 - long2\n",
    "\t\tdist = math.sin(self.deg2rad(lat1)) * math.sin(self.deg2rad(lat2)) + math.cos(self.deg2rad(lat1)) * math.cos(self.deg2rad(lat2)) * math.cos(self.deg2rad(theta))\n",
    "\t\tdist = math.acos(dist)\n",
    "\t\tdist = self.rad2deg(dist)\n",
    "\t\tdist = dist * 60 * 1.1515 * 1.609344\n",
    "\t\treturn dist\n",
    "\n",
    "\tdef rad2deg(self, rad):\n",
    "\t\treturn rad * 180.0 / math.pi\n",
    "\n",
    "\tdef deg2rad(self, deg):\n",
    "\t\treturn deg * math.pi / 180.0"
   ]
  },
  {
   "cell_type": "code",
   "execution_count": 6,
   "id": "0f4197f3",
   "metadata": {},
   "outputs": [],
   "source": [
    "# Function to check rules for UCL and Credit Score\n",
    "def verify_ucl_data(card_id, amount):\n",
    "    try:\n",
    "        client = MongoClient();\n",
    "        # Database Name\n",
    "        db = client[\"CREDIT_CARD_DB\"]\n",
    "        # Collection Name\n",
    "        lookupTable = db[\"lookup_table\"]\n",
    "        lookupValue = lookupTable.find_one({'card_id': card_id}) #378303738095292\n",
    "        if amount < float(lookupValue[\"ucl\"]) and float(lookupValue[\"ucl\"]) > 200:\n",
    "            return True\n",
    "        else:\n",
    "            return False\n",
    "    except Exception as e:\n",
    "        raise Exception(e)"
   ]
  },
  {
   "cell_type": "code",
   "execution_count": 7,
   "id": "0138c24b",
   "metadata": {},
   "outputs": [],
   "source": [
    "\"\"\"\n",
    "Function to verify the following zipcode rules\n",
    "ZIP code distance\n",
    ":param card_id: (Long) Card id of the card customer\n",
    ":param postcode: (Integer) Post code of the card transaction\n",
    ":param transaction_dt: (String) Timestamp\n",
    ":return: (Boolean)\n",
    "\"\"\"\n",
    "def verify_postcode_data(card_id, postcode, transaction_dt):\n",
    "\n",
    "    try:\n",
    "        \n",
    "        client = MongoClient();\n",
    "        # Database Name\n",
    "        db = client[\"CREDIT_CARD_DB\"]\n",
    "        # Collection Name\n",
    "        lookupTable = db[\"lookup_table\"]\n",
    "        lookupValue = lookupTable.find_one({'card_id': card_id}) #378303738095292\n",
    "        geo_map = GEO_Map.get_instance()\n",
    "        last_postcode = lookupValue[\"postcode\"]\n",
    "        last_transaction_dt = lookupValue[\"transaction_dt2\"]\n",
    "        current_lat = geo_map.get_lat(str(postcode))\n",
    "        for data in current_lat:\n",
    "            current_lat1 = data\n",
    "        current_long = geo_map.get_long(str(postcode))\n",
    "        for data in current_lon:\n",
    "            current_long1 = data\n",
    "        previous_lat = geo_map.get_lat(str(last_postcode))\n",
    "        for data in previous_lat:\n",
    "            previous_lat1 = data\n",
    "        previous_long = geo_map.get_long(str(last_postcode))\n",
    "        for data in previous_long:\n",
    "            previous_long1 = data\n",
    "        \n",
    "        dist = geo_map.distance(lat1=current_lat1, long1=current_lon1, lat2=previous_lat1, long2=previous_long1)\n",
    "        speed = calculate_speed(dist, transaction_dt, last_transaction_dt)\n",
    "\n",
    "        if speed < speed_threshold:\n",
    "            return True\n",
    "        else:\n",
    "            return False\n",
    "\n",
    "    except Exception as e:\n",
    "        raise Exception(e)\n"
   ]
  },
  {
   "cell_type": "code",
   "execution_count": 8,
   "id": "01dc3e0f",
   "metadata": {},
   "outputs": [],
   "source": [
    "#A function to calculate the speed from distance and transaction timestamp differentials\n",
    "\n",
    "def calculate_speed(dist, transaction_dt1, transaction_dt2):\n",
    "    transaction_dt1 = datetime.datetime.strptime(transaction_dt1, '%d-%m-%Y %H:%M:%S')\n",
    "    transaction_dt2 = datetime.datetime.strptime(transaction_dt2, '%Y-%m-%d %H:%M:%S')\n",
    "    elapsed_time = transaction_dt1 - transaction_dt2\n",
    "    elapsed_time = elapsed_time.total_seconds()\n",
    "    try:\n",
    "        return dist / elapsed_time\n",
    "    except ZeroDivisionError:\n",
    "        return 299792.458  # (Speed of light)"
   ]
  },
  {
   "cell_type": "code",
   "execution_count": 9,
   "id": "a9d81a46",
   "metadata": {},
   "outputs": [],
   "source": [
    "#A function to update genuine and fraud transactions into card_transactions collections\n",
    "\n",
    "def updateCardTransactions(kafkajsonObj, Status):\n",
    "    client = MongoClient();\n",
    "    # Database Name\n",
    "    mydb = client[\"CREDIT_CARD_DB\"]\n",
    "    mycol = mydb[\"card_transactions\"]\n",
    "    if (Status==True):\n",
    "        newStatus = \"GENUINE\"\n",
    "    else:\n",
    "        newStatus = \"Fraud\"\n",
    "        \n",
    "    mydict = {\"card_id\" : kafkajsonObj[\"card_id\"], \"member_id\" : kafkajsonObj[\"member_id\"], \"amount\" : kafkajsonObj[\"amount\"], \"postcode\" : kafkajsonObj[\"postcode\"], \"pos_id\" : kafkajsonObj[\"pos_id\"], \"transaction_dt\" : kafkajsonObj[\"transaction_dt\"], \"status\" : newStatus}    \n",
    "    mycol.insert_one(mydict)\n",
    "    "
   ]
  },
  {
   "cell_type": "code",
   "execution_count": 10,
   "id": "5a7ba6fd",
   "metadata": {},
   "outputs": [],
   "source": [
    "# A function to update genuine transactions into lookup_table collections\n",
    "def updateLookUpTransactions(kafkajsonObj):\n",
    "    client = MongoClient();\n",
    "    # Database Name\n",
    "    mydb = client[\"CREDIT_CARD_DB\"]\n",
    "    mycol = mydb[\"lookup_table\"]\n",
    "    lookupUpdQryOld = {\"card_id\" : kafkajsonObj[\"card_id\"]}    \n",
    "    lookupUpdQryNew = { \"$set\": {\"card_id\" : kafkajsonObj[\"card_id\"], \"member_id\" : kafkajsonObj[\"member_id\"], \"amount\" : kafkajsonObj[\"amount\"], \"postcode\" : kafkajsonObj[\"postcode\"], \"pos_id\" : kafkajsonObj[\"pos_id\"], \"transaction_dt\" : kafkajsonObj[\"transaction_dt\"], \"status\" : \"GENUINE\"}    }\n",
    "    mycol.update_one(lookupUpdQryOld, lookupUpdQryNew)"
   ]
  },
  {
   "cell_type": "code",
   "execution_count": 11,
   "id": "90733833",
   "metadata": {},
   "outputs": [],
   "source": [
    "# wrapper function to validate all 3 rules\n",
    "def validateFraud(amount, card_id, postcode, txndate):\n",
    "    status_ucl_crdScore = verify_ucl_data(card_id, amount)\n",
    "    status_distance = verify_postcode_data(card_id, postcode, txndate)\n",
    "    if status_ucl_crdScore==True and status_distance==True :\n",
    "        print(\"3 Rules check passed!!!!!! ; congratulations! \")\n",
    "        return True\n",
    "    else : \n",
    "        return False"
   ]
  },
  {
   "cell_type": "code",
   "execution_count": 12,
   "id": "2b358522",
   "metadata": {},
   "outputs": [
    {
     "ename": "Exception",
     "evalue": "localhost:27017: [Errno 111] Connection refused, Timeout: 30s, Topology Description: <TopologyDescription id: 63ea94a4553dc2465131e3ce, topology_type: Unknown, servers: [<ServerDescription ('localhost', 27017) server_type: Unknown, rtt: None, error=AutoReconnect('localhost:27017: [Errno 111] Connection refused')>]>",
     "output_type": "error",
     "traceback": [
      "\u001b[0;31m---------------------------------------------------------------------------\u001b[0m",
      "\u001b[0;31mServerSelectionTimeoutError\u001b[0m               Traceback (most recent call last)",
      "\u001b[0;32m<ipython-input-6-1d16d7d843e4>\u001b[0m in \u001b[0;36mverify_ucl_data\u001b[0;34m(card_id, amount)\u001b[0m\n\u001b[1;32m      8\u001b[0m         \u001b[0mlookupTable\u001b[0m \u001b[0;34m=\u001b[0m \u001b[0mdb\u001b[0m\u001b[0;34m[\u001b[0m\u001b[0;34m\"lookup_table\"\u001b[0m\u001b[0;34m]\u001b[0m\u001b[0;34m\u001b[0m\u001b[0;34m\u001b[0m\u001b[0m\n\u001b[0;32m----> 9\u001b[0;31m         \u001b[0mlookupValue\u001b[0m \u001b[0;34m=\u001b[0m \u001b[0mlookupTable\u001b[0m\u001b[0;34m.\u001b[0m\u001b[0mfind_one\u001b[0m\u001b[0;34m(\u001b[0m\u001b[0;34m{\u001b[0m\u001b[0;34m'card_id'\u001b[0m\u001b[0;34m:\u001b[0m \u001b[0mcard_id\u001b[0m\u001b[0;34m}\u001b[0m\u001b[0;34m)\u001b[0m \u001b[0;31m#378303738095292\u001b[0m\u001b[0;34m\u001b[0m\u001b[0;34m\u001b[0m\u001b[0m\n\u001b[0m\u001b[1;32m     10\u001b[0m         \u001b[0;32mif\u001b[0m \u001b[0mamount\u001b[0m \u001b[0;34m<\u001b[0m \u001b[0mfloat\u001b[0m\u001b[0;34m(\u001b[0m\u001b[0mlookupValue\u001b[0m\u001b[0;34m[\u001b[0m\u001b[0;34m\"ucl\"\u001b[0m\u001b[0;34m]\u001b[0m\u001b[0;34m)\u001b[0m \u001b[0;32mand\u001b[0m \u001b[0mfloat\u001b[0m\u001b[0;34m(\u001b[0m\u001b[0mlookupValue\u001b[0m\u001b[0;34m[\u001b[0m\u001b[0;34m\"ucl\"\u001b[0m\u001b[0;34m]\u001b[0m\u001b[0;34m)\u001b[0m \u001b[0;34m>\u001b[0m \u001b[0;36m200\u001b[0m\u001b[0;34m:\u001b[0m\u001b[0;34m\u001b[0m\u001b[0;34m\u001b[0m\u001b[0m\n",
      "\u001b[0;32m~/.local/lib/python3.7/site-packages/pymongo/collection.py\u001b[0m in \u001b[0;36mfind_one\u001b[0;34m(self, filter, *args, **kwargs)\u001b[0m\n\u001b[1;32m   1458\u001b[0m         \u001b[0mcursor\u001b[0m \u001b[0;34m=\u001b[0m \u001b[0mself\u001b[0m\u001b[0;34m.\u001b[0m\u001b[0mfind\u001b[0m\u001b[0;34m(\u001b[0m\u001b[0mfilter\u001b[0m\u001b[0;34m,\u001b[0m \u001b[0;34m*\u001b[0m\u001b[0margs\u001b[0m\u001b[0;34m,\u001b[0m \u001b[0;34m**\u001b[0m\u001b[0mkwargs\u001b[0m\u001b[0;34m)\u001b[0m\u001b[0;34m\u001b[0m\u001b[0;34m\u001b[0m\u001b[0m\n\u001b[0;32m-> 1459\u001b[0;31m         \u001b[0;32mfor\u001b[0m \u001b[0mresult\u001b[0m \u001b[0;32min\u001b[0m \u001b[0mcursor\u001b[0m\u001b[0;34m.\u001b[0m\u001b[0mlimit\u001b[0m\u001b[0;34m(\u001b[0m\u001b[0;34m-\u001b[0m\u001b[0;36m1\u001b[0m\u001b[0;34m)\u001b[0m\u001b[0;34m:\u001b[0m\u001b[0;34m\u001b[0m\u001b[0;34m\u001b[0m\u001b[0m\n\u001b[0m\u001b[1;32m   1460\u001b[0m             \u001b[0;32mreturn\u001b[0m \u001b[0mresult\u001b[0m\u001b[0;34m\u001b[0m\u001b[0;34m\u001b[0m\u001b[0m\n",
      "\u001b[0;32m~/.local/lib/python3.7/site-packages/pymongo/cursor.py\u001b[0m in \u001b[0;36mnext\u001b[0;34m(self)\u001b[0m\n\u001b[1;32m   1247\u001b[0m             \u001b[0;32mraise\u001b[0m \u001b[0mStopIteration\u001b[0m\u001b[0;34m\u001b[0m\u001b[0;34m\u001b[0m\u001b[0m\n\u001b[0;32m-> 1248\u001b[0;31m         \u001b[0;32mif\u001b[0m \u001b[0mlen\u001b[0m\u001b[0;34m(\u001b[0m\u001b[0mself\u001b[0m\u001b[0;34m.\u001b[0m\u001b[0m__data\u001b[0m\u001b[0;34m)\u001b[0m \u001b[0;32mor\u001b[0m \u001b[0mself\u001b[0m\u001b[0;34m.\u001b[0m\u001b[0m_refresh\u001b[0m\u001b[0;34m(\u001b[0m\u001b[0;34m)\u001b[0m\u001b[0;34m:\u001b[0m\u001b[0;34m\u001b[0m\u001b[0;34m\u001b[0m\u001b[0m\n\u001b[0m\u001b[1;32m   1249\u001b[0m             \u001b[0;32mreturn\u001b[0m \u001b[0mself\u001b[0m\u001b[0;34m.\u001b[0m\u001b[0m__data\u001b[0m\u001b[0;34m.\u001b[0m\u001b[0mpopleft\u001b[0m\u001b[0;34m(\u001b[0m\u001b[0;34m)\u001b[0m\u001b[0;34m\u001b[0m\u001b[0;34m\u001b[0m\u001b[0m\n",
      "\u001b[0;32m~/.local/lib/python3.7/site-packages/pymongo/cursor.py\u001b[0m in \u001b[0;36m_refresh\u001b[0;34m(self)\u001b[0m\n\u001b[1;32m   1138\u001b[0m         \u001b[0;32mif\u001b[0m \u001b[0;32mnot\u001b[0m \u001b[0mself\u001b[0m\u001b[0;34m.\u001b[0m\u001b[0m__session\u001b[0m\u001b[0;34m:\u001b[0m\u001b[0;34m\u001b[0m\u001b[0;34m\u001b[0m\u001b[0m\n\u001b[0;32m-> 1139\u001b[0;31m             \u001b[0mself\u001b[0m\u001b[0;34m.\u001b[0m\u001b[0m__session\u001b[0m \u001b[0;34m=\u001b[0m \u001b[0mself\u001b[0m\u001b[0;34m.\u001b[0m\u001b[0m__collection\u001b[0m\u001b[0;34m.\u001b[0m\u001b[0mdatabase\u001b[0m\u001b[0;34m.\u001b[0m\u001b[0mclient\u001b[0m\u001b[0;34m.\u001b[0m\u001b[0m_ensure_session\u001b[0m\u001b[0;34m(\u001b[0m\u001b[0;34m)\u001b[0m\u001b[0;34m\u001b[0m\u001b[0;34m\u001b[0m\u001b[0m\n\u001b[0m\u001b[1;32m   1140\u001b[0m \u001b[0;34m\u001b[0m\u001b[0m\n",
      "\u001b[0;32m~/.local/lib/python3.7/site-packages/pymongo/mongo_client.py\u001b[0m in \u001b[0;36m_ensure_session\u001b[0;34m(self, session)\u001b[0m\n\u001b[1;32m   1739\u001b[0m             \u001b[0;31m# should always opt-in.\u001b[0m\u001b[0;34m\u001b[0m\u001b[0;34m\u001b[0m\u001b[0;34m\u001b[0m\u001b[0m\n\u001b[0;32m-> 1740\u001b[0;31m             \u001b[0;32mreturn\u001b[0m \u001b[0mself\u001b[0m\u001b[0;34m.\u001b[0m\u001b[0m__start_session\u001b[0m\u001b[0;34m(\u001b[0m\u001b[0;32mTrue\u001b[0m\u001b[0;34m,\u001b[0m \u001b[0mcausal_consistency\u001b[0m\u001b[0;34m=\u001b[0m\u001b[0;32mFalse\u001b[0m\u001b[0;34m)\u001b[0m\u001b[0;34m\u001b[0m\u001b[0;34m\u001b[0m\u001b[0m\n\u001b[0m\u001b[1;32m   1741\u001b[0m         \u001b[0;32mexcept\u001b[0m \u001b[0;34m(\u001b[0m\u001b[0mConfigurationError\u001b[0m\u001b[0;34m,\u001b[0m \u001b[0mInvalidOperation\u001b[0m\u001b[0;34m)\u001b[0m\u001b[0;34m:\u001b[0m\u001b[0;34m\u001b[0m\u001b[0;34m\u001b[0m\u001b[0m\n",
      "\u001b[0;32m~/.local/lib/python3.7/site-packages/pymongo/mongo_client.py\u001b[0m in \u001b[0;36m__start_session\u001b[0;34m(self, implicit, **kwargs)\u001b[0m\n\u001b[1;32m   1684\u001b[0m         \u001b[0;32mif\u001b[0m \u001b[0mimplicit\u001b[0m\u001b[0;34m:\u001b[0m\u001b[0;34m\u001b[0m\u001b[0;34m\u001b[0m\u001b[0m\n\u001b[0;32m-> 1685\u001b[0;31m             \u001b[0mself\u001b[0m\u001b[0;34m.\u001b[0m\u001b[0m_topology\u001b[0m\u001b[0;34m.\u001b[0m\u001b[0m_check_implicit_session_support\u001b[0m\u001b[0;34m(\u001b[0m\u001b[0;34m)\u001b[0m\u001b[0;34m\u001b[0m\u001b[0;34m\u001b[0m\u001b[0m\n\u001b[0m\u001b[1;32m   1686\u001b[0m             \u001b[0mserver_session\u001b[0m \u001b[0;34m=\u001b[0m \u001b[0m_EmptyServerSession\u001b[0m\u001b[0;34m(\u001b[0m\u001b[0;34m)\u001b[0m\u001b[0;34m\u001b[0m\u001b[0;34m\u001b[0m\u001b[0m\n",
      "\u001b[0;32m~/.local/lib/python3.7/site-packages/pymongo/topology.py\u001b[0m in \u001b[0;36m_check_implicit_session_support\u001b[0;34m(self)\u001b[0m\n\u001b[1;32m    537\u001b[0m         \u001b[0;32mwith\u001b[0m \u001b[0mself\u001b[0m\u001b[0;34m.\u001b[0m\u001b[0m_lock\u001b[0m\u001b[0;34m:\u001b[0m\u001b[0;34m\u001b[0m\u001b[0;34m\u001b[0m\u001b[0m\n\u001b[0;32m--> 538\u001b[0;31m             \u001b[0mself\u001b[0m\u001b[0;34m.\u001b[0m\u001b[0m_check_session_support\u001b[0m\u001b[0;34m(\u001b[0m\u001b[0;34m)\u001b[0m\u001b[0;34m\u001b[0m\u001b[0;34m\u001b[0m\u001b[0m\n\u001b[0m\u001b[1;32m    539\u001b[0m \u001b[0;34m\u001b[0m\u001b[0m\n",
      "\u001b[0;32m~/.local/lib/python3.7/site-packages/pymongo/topology.py\u001b[0m in \u001b[0;36m_check_session_support\u001b[0;34m(self)\u001b[0m\n\u001b[1;32m    554\u001b[0m                 self._select_servers_loop(\n\u001b[0;32m--> 555\u001b[0;31m                     \u001b[0mreadable_server_selector\u001b[0m\u001b[0;34m,\u001b[0m \u001b[0mself\u001b[0m\u001b[0;34m.\u001b[0m\u001b[0mget_server_selection_timeout\u001b[0m\u001b[0;34m(\u001b[0m\u001b[0;34m)\u001b[0m\u001b[0;34m,\u001b[0m \u001b[0;32mNone\u001b[0m\u001b[0;34m\u001b[0m\u001b[0;34m\u001b[0m\u001b[0m\n\u001b[0m\u001b[1;32m    556\u001b[0m                 )\n",
      "\u001b[0;32m~/.local/lib/python3.7/site-packages/pymongo/topology.py\u001b[0m in \u001b[0;36m_select_servers_loop\u001b[0;34m(self, selector, timeout, address)\u001b[0m\n\u001b[1;32m    239\u001b[0m                     \u001b[0;34m\"%s, Timeout: %ss, Topology Description: %r\"\u001b[0m\u001b[0;34m\u001b[0m\u001b[0;34m\u001b[0m\u001b[0m\n\u001b[0;32m--> 240\u001b[0;31m                     \u001b[0;34m%\u001b[0m \u001b[0;34m(\u001b[0m\u001b[0mself\u001b[0m\u001b[0;34m.\u001b[0m\u001b[0m_error_message\u001b[0m\u001b[0;34m(\u001b[0m\u001b[0mselector\u001b[0m\u001b[0;34m)\u001b[0m\u001b[0;34m,\u001b[0m \u001b[0mtimeout\u001b[0m\u001b[0;34m,\u001b[0m \u001b[0mself\u001b[0m\u001b[0;34m.\u001b[0m\u001b[0mdescription\u001b[0m\u001b[0;34m)\u001b[0m\u001b[0;34m\u001b[0m\u001b[0;34m\u001b[0m\u001b[0m\n\u001b[0m\u001b[1;32m    241\u001b[0m                 )\n",
      "\u001b[0;31mServerSelectionTimeoutError\u001b[0m: localhost:27017: [Errno 111] Connection refused, Timeout: 30s, Topology Description: <TopologyDescription id: 63ea94a4553dc2465131e3ce, topology_type: Unknown, servers: [<ServerDescription ('localhost', 27017) server_type: Unknown, rtt: None, error=AutoReconnect('localhost:27017: [Errno 111] Connection refused')>]>",
      "\nDuring handling of the above exception, another exception occurred:\n",
      "\u001b[0;31mException\u001b[0m                                 Traceback (most recent call last)",
      "\u001b[0;32m<ipython-input-12-94bc464539e4>\u001b[0m in \u001b[0;36m<module>\u001b[0;34m\u001b[0m\n\u001b[1;32m     12\u001b[0m     \u001b[0;32mfor\u001b[0m \u001b[0mmessage\u001b[0m \u001b[0;32min\u001b[0m \u001b[0mconsumer\u001b[0m\u001b[0;34m:\u001b[0m\u001b[0;34m\u001b[0m\u001b[0;34m\u001b[0m\u001b[0m\n\u001b[1;32m     13\u001b[0m         \u001b[0mkafkajsonObj\u001b[0m \u001b[0;34m=\u001b[0m \u001b[0mjson\u001b[0m\u001b[0;34m.\u001b[0m\u001b[0mloads\u001b[0m\u001b[0;34m(\u001b[0m\u001b[0mmessage\u001b[0m\u001b[0;34m.\u001b[0m\u001b[0mvalue\u001b[0m\u001b[0;34m)\u001b[0m\u001b[0;34m\u001b[0m\u001b[0;34m\u001b[0m\u001b[0m\n\u001b[0;32m---> 14\u001b[0;31m         \u001b[0mstatus\u001b[0m \u001b[0;34m=\u001b[0m \u001b[0mvalidateFraud\u001b[0m\u001b[0;34m(\u001b[0m\u001b[0mkafkajsonObj\u001b[0m\u001b[0;34m[\u001b[0m\u001b[0;34m\"amount\"\u001b[0m\u001b[0;34m]\u001b[0m\u001b[0;34m,\u001b[0m \u001b[0mkafkajsonObj\u001b[0m\u001b[0;34m[\u001b[0m\u001b[0;34m\"card_id\"\u001b[0m\u001b[0;34m]\u001b[0m\u001b[0;34m,\u001b[0m\u001b[0mkafkajsonObj\u001b[0m\u001b[0;34m[\u001b[0m\u001b[0;34m\"postcode\"\u001b[0m\u001b[0;34m]\u001b[0m\u001b[0;34m,\u001b[0m \u001b[0mkafkajsonObj\u001b[0m\u001b[0;34m[\u001b[0m\u001b[0;34m\"transaction_dt\"\u001b[0m\u001b[0;34m]\u001b[0m\u001b[0;34m)\u001b[0m\u001b[0;34m\u001b[0m\u001b[0;34m\u001b[0m\u001b[0m\n\u001b[0m\u001b[1;32m     15\u001b[0m         \u001b[0mupdateCardTransactions\u001b[0m\u001b[0;34m(\u001b[0m\u001b[0mkafkajsonObj\u001b[0m\u001b[0;34m,\u001b[0m \u001b[0mstatus\u001b[0m\u001b[0;34m)\u001b[0m\u001b[0;34m\u001b[0m\u001b[0;34m\u001b[0m\u001b[0m\n\u001b[1;32m     16\u001b[0m         \u001b[0mprint\u001b[0m\u001b[0;34m(\u001b[0m\u001b[0;34m\"Record inserted in transactions table\"\u001b[0m\u001b[0;34m)\u001b[0m\u001b[0;34m\u001b[0m\u001b[0;34m\u001b[0m\u001b[0m\n",
      "\u001b[0;32m<ipython-input-11-dfb1da5c9e01>\u001b[0m in \u001b[0;36mvalidateFraud\u001b[0;34m(amount, card_id, postcode, txndate)\u001b[0m\n\u001b[1;32m      1\u001b[0m \u001b[0;31m# wrapper function to validate all 3 rules\u001b[0m\u001b[0;34m\u001b[0m\u001b[0;34m\u001b[0m\u001b[0;34m\u001b[0m\u001b[0m\n\u001b[1;32m      2\u001b[0m \u001b[0;32mdef\u001b[0m \u001b[0mvalidateFraud\u001b[0m\u001b[0;34m(\u001b[0m\u001b[0mamount\u001b[0m\u001b[0;34m,\u001b[0m \u001b[0mcard_id\u001b[0m\u001b[0;34m,\u001b[0m \u001b[0mpostcode\u001b[0m\u001b[0;34m,\u001b[0m \u001b[0mtxndate\u001b[0m\u001b[0;34m)\u001b[0m\u001b[0;34m:\u001b[0m\u001b[0;34m\u001b[0m\u001b[0;34m\u001b[0m\u001b[0m\n\u001b[0;32m----> 3\u001b[0;31m     \u001b[0mstatus_ucl_crdScore\u001b[0m \u001b[0;34m=\u001b[0m \u001b[0mverify_ucl_data\u001b[0m\u001b[0;34m(\u001b[0m\u001b[0mcard_id\u001b[0m\u001b[0;34m,\u001b[0m \u001b[0mamount\u001b[0m\u001b[0;34m)\u001b[0m\u001b[0;34m\u001b[0m\u001b[0;34m\u001b[0m\u001b[0m\n\u001b[0m\u001b[1;32m      4\u001b[0m     \u001b[0mstatus_distance\u001b[0m \u001b[0;34m=\u001b[0m \u001b[0mverify_postcode_data\u001b[0m\u001b[0;34m(\u001b[0m\u001b[0mcard_id\u001b[0m\u001b[0;34m,\u001b[0m \u001b[0mpostcode\u001b[0m\u001b[0;34m,\u001b[0m \u001b[0mtxndate\u001b[0m\u001b[0;34m)\u001b[0m\u001b[0;34m\u001b[0m\u001b[0;34m\u001b[0m\u001b[0m\n\u001b[1;32m      5\u001b[0m     \u001b[0;32mif\u001b[0m \u001b[0mstatus_ucl_crdScore\u001b[0m\u001b[0;34m==\u001b[0m\u001b[0;32mTrue\u001b[0m \u001b[0;32mand\u001b[0m \u001b[0mstatus_distance\u001b[0m\u001b[0;34m==\u001b[0m\u001b[0;32mTrue\u001b[0m \u001b[0;34m:\u001b[0m\u001b[0;34m\u001b[0m\u001b[0;34m\u001b[0m\u001b[0m\n",
      "\u001b[0;32m<ipython-input-6-1d16d7d843e4>\u001b[0m in \u001b[0;36mverify_ucl_data\u001b[0;34m(card_id, amount)\u001b[0m\n\u001b[1;32m     13\u001b[0m             \u001b[0;32mreturn\u001b[0m \u001b[0;32mFalse\u001b[0m\u001b[0;34m\u001b[0m\u001b[0;34m\u001b[0m\u001b[0m\n\u001b[1;32m     14\u001b[0m     \u001b[0;32mexcept\u001b[0m \u001b[0mException\u001b[0m \u001b[0;32mas\u001b[0m \u001b[0me\u001b[0m\u001b[0;34m:\u001b[0m\u001b[0;34m\u001b[0m\u001b[0;34m\u001b[0m\u001b[0m\n\u001b[0;32m---> 15\u001b[0;31m         \u001b[0;32mraise\u001b[0m \u001b[0mException\u001b[0m\u001b[0;34m(\u001b[0m\u001b[0me\u001b[0m\u001b[0;34m)\u001b[0m\u001b[0;34m\u001b[0m\u001b[0;34m\u001b[0m\u001b[0m\n\u001b[0m",
      "\u001b[0;31mException\u001b[0m: localhost:27017: [Errno 111] Connection refused, Timeout: 30s, Topology Description: <TopologyDescription id: 63ea94a4553dc2465131e3ce, topology_type: Unknown, servers: [<ServerDescription ('localhost', 27017) server_type: Unknown, rtt: None, error=AutoReconnect('localhost:27017: [Errno 111] Connection refused')>]>"
     ]
    }
   ],
   "source": [
    "from kafka import KafkaConsumer\n",
    "import sys\n",
    "\n",
    "### Setting up the Python consumer\n",
    "bootstrap_servers = ['18.211.252.152:9092']\n",
    "topicName = 'transactions-topic-verified'\n",
    "consumer = KafkaConsumer (topicName, bootstrap_servers = bootstrap_servers,\n",
    "auto_offset_reset = 'earliest')   ## You can also set it as latest group_id = 'None'\n",
    "i=0\n",
    "### Reading the message from consumer\n",
    "try:\n",
    "    for message in consumer:\n",
    "        kafkajsonObj = json.loads(message.value)\n",
    "        status = validateFraud(kafkajsonObj[\"amount\"], kafkajsonObj[\"card_id\"],kafkajsonObj[\"postcode\"], kafkajsonObj[\"transaction_dt\"])\n",
    "        updateCardTransactions(kafkajsonObj, status)\n",
    "        print(\"Record inserted in transactions table\")\n",
    "        if (status==True):            \n",
    "            updateLookUpTransactions(kafkajsonObj)\n",
    "            print(\"Record updated in lookup table\")\n",
    "            \n",
    "except KeyboardInterrupt:\n",
    "    sys.exit()\n",
    "    \n",
    "import datetime\n",
    "now = datetime.datetime.now()\n",
    "print(\"Current date and time: \")\n",
    "print(str(now))\n"
   ]
  },
  {
   "cell_type": "code",
   "execution_count": null,
   "id": "2ded7b6c",
   "metadata": {},
   "outputs": [],
   "source": []
  }
 ],
 "metadata": {
  "kernelspec": {
   "display_name": "Python 3",
   "language": "python",
   "name": "python3"
  },
  "language_info": {
   "codemirror_mode": {
    "name": "ipython",
    "version": 3
   },
   "file_extension": ".py",
   "mimetype": "text/x-python",
   "name": "python",
   "nbconvert_exporter": "python",
   "pygments_lexer": "ipython3",
   "version": "3.7.7"
  }
 },
 "nbformat": 4,
 "nbformat_minor": 5
}
